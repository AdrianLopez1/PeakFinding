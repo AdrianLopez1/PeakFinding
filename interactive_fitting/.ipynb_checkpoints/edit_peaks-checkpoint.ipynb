{
 "cells": [
  {
   "cell_type": "code",
   "execution_count": null,
   "metadata": {},
   "outputs": [],
   "source": [
    "# Interactive peak adder\n",
    "\n",
    "command = None\n",
    "while command != 'exit' and command != 'Exit':\n",
    "    command = input('\\nTo add a peak, enter \"add\" followed by the wavenumber of the peak to be added, e.g. \"Add 17323.81\" \\nTo remove a peak, enter \"remove\" followed by the index of the peak to be removed.\\nA peak\\'s index is given below the peak on the above plot, e.g. \"remove a4\". \\nType \"exit\" to close editor and continue to fit. \\n') \n",
    "    \n",
    "    if command[0] in ['a', 'A']:\n",
    "        k_peaks3.append(float(command[3:]))\n",
    "        print('Added peak at wavenumber' + command[3:] + 'cm^-1 \\n')\n",
    "    \n",
    "    elif command[0] in ['r', 'R']:\n",
    "        if 'a' in command:\n",
    "            peaks1[int(command[-1])] = 0\n",
    "        elif 'b' in command:\n",
    "            peaks2[int(command[-1])] = 0\n",
    "        elif 'c' in command:\n",
    "            peaks3[int(command[-1])] = 0\n",
    "        print('Peak '+ command[-2:] + ' removed \\n')\n",
    "            \n",
    "peaks1 = np.array(peaks1)\n",
    "peaks2 = np.array(peaks2)\n",
    "k_peaks3 = np.array(k_peaks3)\n",
    "\n",
    "    \n",
    "peaks1 = peaks1[peaks1>0]\n",
    "peaks2 = peaks2[peaks2>0]\n",
    "k_peaks3 = k_peaks3[k_peaks3>0]\n",
    "        \n",
    "print('Editor closed. To reopen, run this cell again.')"
   ]
  },
  {
   "cell_type": "code",
   "execution_count": null,
   "metadata": {},
   "outputs": [],
   "source": [
    "k_peaks1 = k[peaks1]\n",
    "k_peaks2 = k[peaks2]\n",
    "\n",
    "# Plot location and values of lines\n",
    "fig, ax = plt.subplots(figsize=(22, 11),dpi=150)\n",
    "matplotlib.rcParams.update({'font.size': 18})\n",
    "matplotlib.rcParams.update({'font.family': 'serif'})\n",
    "\n",
    "h = .03\n",
    "ax.plot(k, a_nosmooth)\n",
    "\n",
    "def plotline(peaks):\n",
    "    for i in range(len(peaks)):\n",
    "        ax.vlines(k[peaks[i]], 0, a[peaks[i]]+h, linestyle='--' if peaks[0]==peaks2[0] else '-')\n",
    "        ax.text(k[peaks[i]]-.001, \n",
    "                a[peaks[i]]+h*1.15, str(k[peaks[i]]-int(k[0]))[1:5], \n",
    "                fontsize=16, rotation=75, va='bottom')\n",
    "        ax.text(k[peaks[i]]-.001, \n",
    "                -.01, 'a'+str(i) if peaks[0]==peaks1[0] else 'b'+str(i), \n",
    "                fontsize=16)\n",
    "\n",
    "plotline(peaks1)\n",
    "plotline(peaks2)\n",
    "\n",
    "if k_peaks3.size!=0:\n",
    "    for i, peak in enumerate(k_peaks3):\n",
    "        ax.vlines(peak, 0, max(a_nosmooth), linestyle=':')\n",
    "        ax.text(peak-.001, \n",
    "                max(a_nosmooth)*1.1, str(peak-int(k[0]))[1:5], \n",
    "                fontsize=16, rotation=90, va='bottom')\n",
    "        ax.text(peak-.001, \n",
    "                -.01, 'c'+str(i), \n",
    "                fontsize=16)\n",
    "        \n",
    "ax.xaxis.set_major_locator(ticker.MultipleLocator(.01))\n",
    "plt.grid(True)\n",
    "plt.show()"
   ]
  }
 ],
 "metadata": {
  "kernelspec": {
   "display_name": "Python 3",
   "language": "python",
   "name": "python3"
  },
  "language_info": {
   "codemirror_mode": {
    "name": "ipython",
    "version": 3
   },
   "file_extension": ".py",
   "mimetype": "text/x-python",
   "name": "python",
   "nbconvert_exporter": "python",
   "pygments_lexer": "ipython3",
   "version": "3.7.6"
  }
 },
 "nbformat": 4,
 "nbformat_minor": 4
}
