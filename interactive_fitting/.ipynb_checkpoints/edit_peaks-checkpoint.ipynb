{
 "cells": [
  {
   "cell_type": "code",
   "execution_count": null,
   "metadata": {},
   "outputs": [],
   "source": [
    "# Interactive peak adder\n",
    "\n",
    "command = None\n",
    "while command != 'exit' and command != 'Exit':\n",
    "    command = input('\\nTo add a peak, enter \"add\" followed by the wavenumber of the peak to be added, e.g. \"Add 17323.81\" \\nTo remove a peak, enter \"remove\" followed by the index of the peak to be removed.\\nA peak\\'s index is given below the peak on the above plot, e.g. \"remove a4\". \\nType \"exit\" to close editor and continue to fit. \\n') \n",
    "    \n",
    "    if command[0] in ['a', 'A']:\n",
    "        k_peaks3.append(float(command[3:]))\n",
    "        print('Added peak at wavenumber' + command[3:] + 'cm^-1 \\n')\n",
    "    \n",
    "    elif command[0] in ['r', 'R']:\n",
    "        if 'a' in command:\n",
    "            peaks1[int(command[-1])] = 0\n",
    "        elif 'b' in command:\n",
    "            peaks2[int(command[-1])] = 0\n",
    "        elif 'c' in command:\n",
    "            peaks3[int(command[-1])] = 0\n",
    "        print('Peak '+ command[-2:] + ' removed \\n')\n",
    "            \n",
    "peaks1 = np.array(peaks1)\n",
    "peaks2 = np.array(peaks2)\n",
    "k_peaks3 = np.array(k_peaks3)\n",
    "\n",
    "    \n",
    "peaks1 = peaks1[peaks1>0]\n",
    "peaks2 = peaks2[peaks2>0]\n",
    "k_peaks3 = k_peaks3[k_peaks3>0]\n",
    "        \n",
    "print('Editor closed. To reopen, run this cell again.')"
   ]
  },
  {
   "cell_type": "code",
   "execution_count": null,
   "metadata": {},
   "outputs": [],
   "source": [
    "# Sort out peaks - convert wavenumber to index for peaks3\n",
    "\n",
    "peaks3 = []\n",
    "\n",
    "for k_peak in k_peaks3:\n",
    "    peaks3.append(np.argmin(abs(k - k_peak)))\n",
    "    \n",
    "peaks = np.concatenate((peaks1,peaks2,peaks3)).astype(int)\n",
    "peaks.sort()"
   ]
  },
  {
   "cell_type": "code",
   "execution_count": null,
   "metadata": {},
   "outputs": [],
   "source": [
    "k_peaks1 = k[peaks1]\n",
    "k_peaks2 = k[peaks2]\n",
    "\n",
    "# Plot location and values of lines\n",
    "fig, ax = plt.subplots(figsize=(22, 11),dpi=150)\n",
    "matplotlib.rcParams.update({'font.size': 18})\n",
    "matplotlib.rcParams.update({'font.family': 'serif'})\n",
    "\n",
    "h = .03\n",
    "ax.plot(k, a_nosmooth)\n",
    "\n",
    "plotline(peaks1, '-', 'a')  # The plotline function is defined in find_peaks\n",
    "plotline(peaks2, '--','b')\n",
    "if k_peaks3.size!=0: \n",
    "    plotline(peaks3, ':', 'c')\n",
    "        \n",
    "ax.xaxis.set_major_locator(ticker.MultipleLocator(.01))\n",
    "plt.grid(True)\n",
    "plt.show()"
   ]
  }
 ],
 "metadata": {
  "kernelspec": {
   "display_name": "Python 3",
   "language": "python",
   "name": "python3"
  },
  "language_info": {
   "codemirror_mode": {
    "name": "ipython",
    "version": 3
   },
   "file_extension": ".py",
   "mimetype": "text/x-python",
   "name": "python",
   "nbconvert_exporter": "python",
   "pygments_lexer": "ipython3",
   "version": "3.7.6"
  }
 },
 "nbformat": 4,
 "nbformat_minor": 4
}
