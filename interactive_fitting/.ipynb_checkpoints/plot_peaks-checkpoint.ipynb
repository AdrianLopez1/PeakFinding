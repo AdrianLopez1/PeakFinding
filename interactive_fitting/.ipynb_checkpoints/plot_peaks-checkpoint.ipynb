{
 "cells": [
  {
   "cell_type": "code",
   "execution_count": null,
   "metadata": {},
   "outputs": [],
   "source": [
    "# Select proper peaks\n",
    "\n",
    "values0 = np.array([i.values for i in model.models])\n",
    "uncerts0 = np.array([i.uncertainties for i in model.models])\n",
    "#values = values0[uncerts0[:,0]/values0[:,0]<.1] # Only take models with fractional amplitude uncertainty < 10 %\n",
    "#uncerts = uncerts0[uncerts0[:,0]/values0[:,0]<.1] # Could also just take the ones with amplitude above threshold\n",
    "\n",
    "threshold = .002\n",
    "\n",
    "values = values0[values0[:,0]>threshold]\n",
    "uncerts = uncerts0[values0[:,0]>threshold]"
   ]
  },
  {
   "cell_type": "code",
   "execution_count": null,
   "metadata": {},
   "outputs": [],
   "source": [
    "%matplotlib inline\n",
    "\n",
    "amplitudes = values[0:,0]\n",
    "k_peaks = values[0:,1]\n",
    "d_k_peaks = uncerts[0:,1]\n",
    "\n",
    "\n",
    "fig, ax = plt.subplots(figsize=(18, 9),dpi=150)\n",
    "\n",
    "\n",
    "ax.plot(k, a_nosmooth, alpha=.65) #Plot data\n",
    "\n",
    "# Plot location and values of lines\n",
    "# Most of the complication here is getting the uncertainties displayed correctly\n",
    "for i in range(len(k_peaks)):    \n",
    "    ax.vlines(k_peaks[i], 0, amplitudes[i]+5)\n",
    "    \n",
    "    if 'e' in str(d_k_peaks[i]):\n",
    "        n = int(str(d_k_peaks[i])[-1]) - 1\n",
    "        \n",
    "        if int(str(d_k_peaks[i])[2]) < 5:\n",
    "            ax.text(k_peaks[i]-.002, \n",
    "                amplitudes[i]+10, str(k_peaks[i]-int(k[0]))[1:n+3]+'('+str(d_k_peaks[i])[0]+')', \n",
    "                fontsize=16, rotation=90, va='bottom')\n",
    "            \n",
    "        else:\n",
    "            ax.text(k_peaks[i]-.002, \n",
    "                amplitudes[i]+10, str(k_peaks[i]-int(k[0]))[1:n+3]+'('+str(int(str(d_k_peaks[i])[0])+1)+')', \n",
    "                fontsize=16, rotation=90, va='bottom')\n",
    "    else:\n",
    "        s = str(d_k_peaks[i])[2:]\n",
    "        n = 0\n",
    "        while s[0]=='0':\n",
    "            s = s[1:]\n",
    "            n += 1\n",
    "            \n",
    "        if int(str(d_k_peaks[i])[n+3]) < 5:\n",
    "            ax.text(k_peaks[i]-.002, \n",
    "                amplitudes[i]+10, str(k_peaks[i]-int(k[0]))[1:n+3]+'('+str(d_k_peaks[i])[n+2]+')', \n",
    "                fontsize=16, rotation=90, va='bottom')\n",
    "        else:\n",
    "            ax.text(k_peaks[i]-.002, \n",
    "                amplitudes[i]+10, str(k_peaks[i]-int(k[0]))[1:n+3]+'('+str(int(str(d_k_peaks[i])[n+2])+1)+')', \n",
    "                fontsize=16, rotation=90, va='bottom')\n",
    "            \n",
    "model_graph, = ax.plot(xsample, model(xsample), color='black', label='model') #Plot fit\n",
    "ax.set_ylim([-5, 105])\n",
    "plt.savefig(\"fits/scan6fit.png\")\n",
    "plt.show()"
   ]
  },
  {
   "cell_type": "code",
   "execution_count": null,
   "metadata": {},
   "outputs": [],
   "source": [
    "model.summary()"
   ]
  }
 ],
 "metadata": {
  "kernelspec": {
   "display_name": "Python 3",
   "language": "python",
   "name": "python3"
  },
  "language_info": {
   "codemirror_mode": {
    "name": "ipython",
    "version": 3
   },
   "file_extension": ".py",
   "mimetype": "text/x-python",
   "name": "python",
   "nbconvert_exporter": "python",
   "pygments_lexer": "ipython3",
   "version": "3.7.6"
  }
 },
 "nbformat": 4,
 "nbformat_minor": 4
}
