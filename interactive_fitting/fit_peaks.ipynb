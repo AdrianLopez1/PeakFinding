{
 "cells": [
  {
   "cell_type": "code",
   "execution_count": null,
   "metadata": {},
   "outputs": [],
   "source": [
    "# For fitting peaks. To be used from the interactive notebook"
   ]
  },
  {
   "cell_type": "code",
   "execution_count": null,
   "metadata": {},
   "outputs": [],
   "source": [
    "# Generate model creator string\n",
    "creator_string = \"Model(uniform, Parameter(value=0, bounds=(-50, 50), label='background'), label='background'),\"\n",
    "peaks = np.concatenate((peaks1,peaks2,peaks3)).astype(int)\n",
    "peaks = np.sort(peaks)\n",
    "for counter, i in enumerate(peaks):\n",
    "    creator_string += \"Model(gaussian1D, Parameter(value={amplitude}, bounds=(0, 100),  label='amplitude'), Parameter(value={location}, bounds=(min(k)-.01, max(k)+.01), label='center'),Parameter(value=.0012,  bounds=(.0001, .01), label='width'), label='peak_{index}'),\".format(location=k[i], amplitude=a[i], index=counter)\n",
    "creator_string += \"label='gaussian_peaks')\"\n",
    "creator_string = \"model = CompositeModel(\" + creator_string"
   ]
  },
  {
   "cell_type": "code",
   "execution_count": null,
   "metadata": {},
   "outputs": [],
   "source": [
    "from dataphile.datasets import SyntheticDataset\n",
    "from dataphile.statistics.distributions import gaussian1D, uniform\n",
    "from dataphile.statistics.regression.modeling import Parameter, Model, CompositeModel, AutoGUI\n",
    "from matplotlib import patches\n",
    "#plt.style.use('seaborn-notebook')\n",
    "%matplotlib notebook\n",
    "\n",
    "figure = plt.figure('Absorption Data', figsize=(18, 9))\n",
    "\n",
    "# create main plot of data\n",
    "ax_1 = figure.add_axes([0.02, .64, .96, 0.33])\n",
    "data_graph, = ax_1.step(k, a_nosmooth, color='steelblue', alpha=.6, lw=1, label='data')\n",
    "\n",
    "# labels\n",
    "ax_1.set_ylabel('Absorption', labelpad=15, fontweight='semibold')\n",
    "ax_1.set_xlabel('Wavenumber (cm^-1)', labelpad=15, fontweight='semibold')\n",
    "\n",
    "# overlay small markers showing location of features\n",
    "for counter, i in enumerate(peaks):\n",
    "    ax_1.scatter(k[i], a[i]+10, marker='v', color='steelblue')\n",
    "    ax_1.text(k[i], a[i]+13, '{}'.format(counter), horizontalalignment='center')\n",
    "    \n",
    "# xloc, yloc = x0_s, [(bias + peak).max() + 25 for peak in peaks]\n",
    "# markers = ax_1.scatter(xloc, yloc, marker='v', color='steelblue')\n",
    "\n",
    "\n",
    "# overlay small markers showing location of features\n",
    "#loc, yloc = x0_s, [(bias + peak).max() + 25 for peak in peaks]\n",
    "#markers = ax_2.scatter(xloc, yloc, marker='v', color='steelblue')\n",
    "\n",
    "exec(creator_string)\n",
    "\n",
    "xsample = np.linspace(min(k), max(k), 5000)\n",
    "model_graph, = ax_1.plot(xsample, model(xsample), color='black', label='model')\n",
    "ax_1.legend();\n",
    "\n",
    "gui = AutoGUI(model, [model_graph], bbox=[.02, 0.06, .96, .6], figure=figure,\n",
    "              slider_options={'color': 'steelblue'}, data=(k, a_nosmooth));"
   ]
  },
  {
   "cell_type": "code",
   "execution_count": null,
   "metadata": {},
   "outputs": [],
   "source": [
    "# Text boxes for more fine control, linked to sliders\n",
    "amp_text = widgets.Text(\n",
    "    value='',\n",
    "    placeholder='e.g. 42',\n",
    "    description='Adjust amplitude:',\n",
    "    style = {'description_width': 'initial'},\n",
    "    layout=widgets.Layout(width='30%'),\n",
    "    disabled=False\n",
    ")\n",
    "cen_text = widgets.Text(\n",
    "    value='',\n",
    "    placeholder='e.g. 17343.5',\n",
    "    description='Adjust center:',\n",
    "    style = {'description_width': 'initial'},\n",
    "    layout=widgets.Layout(width='30%'),\n",
    "    disabled=False\n",
    ")\n",
    "sig_text = widgets.Text(\n",
    "    value='',\n",
    "    placeholder='e.g. .001',\n",
    "    description='Adjust width:',\n",
    "    style = {'description_width': 'initial'},\n",
    "    layout=widgets.Layout(width='30%'),\n",
    "    disabled=False\n",
    ")\n",
    "adjust_button = widgets.Button(\n",
    "    description='Adjust',\n",
    "    disabled=False,\n",
    "    button_style='', # 'success', 'info', 'warning', 'danger' or ''\n",
    "    icon='comic-sans'\n",
    ")\n",
    "adjust_button.style.button_color = 'steelblue'\n",
    "adjust_button.style.font_weight = 'bold'\n",
    "\n",
    "def adjust_button_clicked(b):\n",
    "    if len(gui.sliders) == 3:\n",
    "        if amp_text.value != '': gui.sliders[0].value = float(amp_text.value)\n",
    "        if cen_text.value != '': gui.sliders[1].value = float(cen_text.value)\n",
    "        if sig_text.value != '': gui.sliders[2].value = float(sig_text.value)\n",
    "        \n",
    "\n",
    "display(widgets.HBox([amp_text, cen_text, sig_text, adjust_button], layout=widgets.Layout(width='900px')))\n",
    "adjust_button.on_click(adjust_button_clicked)"
   ]
  }
 ],
 "metadata": {
  "kernelspec": {
   "display_name": "Python 3",
   "language": "python",
   "name": "python3"
  },
  "language_info": {
   "codemirror_mode": {
    "name": "ipython",
    "version": 3
   },
   "file_extension": ".py",
   "mimetype": "text/x-python",
   "name": "python",
   "nbconvert_exporter": "python",
   "pygments_lexer": "ipython3",
   "version": "3.7.6"
  }
 },
 "nbformat": 4,
 "nbformat_minor": 4
}
