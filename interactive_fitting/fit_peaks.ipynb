{
 "cells": [
  {
   "cell_type": "code",
   "execution_count": null,
   "metadata": {},
   "outputs": [],
   "source": [
    "# For fitting peaks. To be used from the interactive notebook"
   ]
  },
  {
   "cell_type": "code",
   "execution_count": null,
   "metadata": {},
   "outputs": [],
   "source": [
    "# Sort out peaks - convert wavenumber to index for peaks3\n",
    "\n",
    "peaks3 = []\n",
    "\n",
    "for k_peak in k_peaks3:\n",
    "    peaks3.append(np.argmin(abs(k - k_peak)))\n",
    "    \n",
    "peaks = np.concatenate((peaks1,peaks2,peaks3)).astype(int)\n",
    "peaks.sort()"
   ]
  },
  {
   "cell_type": "code",
   "execution_count": null,
   "metadata": {},
   "outputs": [],
   "source": [
    "# Generate model creator string\n",
    "creator_string = ''\n",
    "for i in peaks:\n",
    "    creator_string += \"Model(gaussian1D, Parameter(value={amplitude}, bounds=(0, 100),  label='amplitude'), Parameter(value={location}, bounds=(min(k)-.01, max(k)+.01), label='center'),Parameter(value=.0012,  bounds=(.0001, .01), label='width'), label='peak_{index}'),\".format(location=k[i], amplitude=a[i], index=np.where(peaks==i)[0])\n",
    "creator_string += \"label='gaussian_peaks')\"\n",
    "creator_string = \"model = CompositeModel(\" + creator_string"
   ]
  },
  {
   "cell_type": "code",
   "execution_count": null,
   "metadata": {},
   "outputs": [],
   "source": [
    "from dataphile.datasets import SyntheticDataset\n",
    "from dataphile.statistics.distributions import gaussian1D, polynomial1D\n",
    "from dataphile.statistics.regression.modeling import Parameter, Model, CompositeModel, AutoGUI\n",
    "from matplotlib import patches\n",
    "#plt.style.use('seaborn-notebook')\n",
    "%matplotlib notebook\n",
    "\n",
    "figure = plt.figure('Absorption Data', figsize=(18, 9))\n",
    "\n",
    "# create main plot of data\n",
    "ax_1 = figure.add_axes([0.02, .64, .96, 0.33])\n",
    "data_graph, = ax_1.step(k, a_nosmooth, color='black', lw=1, label='data')\n",
    "\n",
    "# labels\n",
    "ax_1.set_ylabel('Absorption', labelpad=15, fontweight='semibold')\n",
    "ax_1.set_xlabel('Wavenumber (cm^-1)', labelpad=15, fontweight='semibold')\n",
    "\n",
    "\n",
    "# overlay small markers showing location of features\n",
    "#loc, yloc = x0_s, [(bias + peak).max() + 25 for peak in peaks]\n",
    "#markers = ax_2.scatter(xloc, yloc, marker='v', color='steelblue')\n",
    "\n",
    "exec(creator_string)\n",
    "\n",
    "xsample = np.linspace(min(k), max(k), 1000)\n",
    "model_graph, = ax_1.plot(xsample, model(xsample), color='steelblue', label='model')\n",
    "ax_1.legend();\n",
    "\n",
    "#ax_1.set_position([0.15, 0.30, 0.84, 0.56])\n",
    "gui = AutoGUI(model, [model_graph], bbox=[.02, 0.02, 0.96, .6], figure=figure,\n",
    "              slider_options={'color': 'steelblue'}, data=(k, a_nosmooth));"
   ]
  }
 ],
 "metadata": {
  "kernelspec": {
   "display_name": "Python 3",
   "language": "python",
   "name": "python3"
  },
  "language_info": {
   "codemirror_mode": {
    "name": "ipython",
    "version": 3
   },
   "file_extension": ".py",
   "mimetype": "text/x-python",
   "name": "python",
   "nbconvert_exporter": "python",
   "pygments_lexer": "ipython3",
   "version": "3.7.6"
  }
 },
 "nbformat": 4,
 "nbformat_minor": 4
}
