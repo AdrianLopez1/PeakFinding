{
 "cells": [
  {
   "cell_type": "markdown",
   "metadata": {},
   "source": [
    "# Identify Peaks by Derivative"
   ]
  },
  {
   "cell_type": "markdown",
   "metadata": {},
   "source": [
    "### For getting initial guesses of peaks locations. To be used from interactive.ipynb."
   ]
  },
  {
   "cell_type": "code",
   "execution_count": null,
   "metadata": {},
   "outputs": [],
   "source": [
    "from scipy.signal import find_peaks\n",
    "from scipy.signal import savgol_filter\n",
    "from scipy.ndimage import gaussian_filter1d\n",
    "import numpy as np\n",
    "from statistics import mean\n",
    "import matplotlib.pyplot as plt\n",
    "import matplotlib.ticker as ticker\n",
    "import matplotlib\n",
    "import re\n",
    "\n",
    "font = {'family' : 'serif',\n",
    "        'weight' : 'normal',\n",
    "        'size'   : 13.75}\n",
    "\n",
    "matplotlib.rc('font', **font)"
   ]
  },
  {
   "cell_type": "code",
   "execution_count": null,
   "metadata": {},
   "outputs": [],
   "source": [
    "datafile = 'data/20200423_scan6_background_corrected.csv'\n",
    "\n",
    "k = np.genfromtxt(datafile, delimiter=',')[0:,0]\n",
    "a_nosmooth = np.genfromtxt(datafile, delimiter=',')[0:,1]\n",
    "\n",
    "# Smooth data, take derivative, smooth derivative, take derivative, smooth derivative\n",
    "\n",
    "a = gaussian_filter1d(a_nosmooth, 5)\n",
    "\n",
    "#a = savgol_filter(a_nosmooth, 33, 3)\n",
    "da = gaussian_filter1d(np.gradient(a), 3)\n",
    "#da = savgol_filter(da, 5, 1)\n",
    "dda = gaussian_filter1d(np.gradient(da), 3)\n",
    "#dda = savgol_filter(dda, 25, 3)"
   ]
  },
  {
   "cell_type": "code",
   "execution_count": null,
   "metadata": {},
   "outputs": [],
   "source": [
    "# Find peaks\n",
    "threshold = .005 # Minimum height of peak\n",
    "peaks1 = [] # Pretty sure there are peaks here (da goes from + to -)\n",
    "peaks2 = [] # Not as sure there are peaks here (less sensitive condition: dda < 0)\n",
    "\n",
    "for i in range(1, len(a)):\n",
    "    if da[i-1]>0 and da[i]<0 and a[i]>threshold:\n",
    "        peaks1.append(i)\n",
    "    if dda[i] < 0 and a[i]>threshold:\n",
    "        peaks2.append(i)\n",
    "        \n",
    "# Average nearby peak locations (could maybe get width from this) (only needed for peaks2)\n",
    "runs = [[]]\n",
    "for i in range(1,len(peaks2)):\n",
    "    if peaks2[i] <= peaks2[i-1]+8:\n",
    "        runs[-1].append(peaks2[i])\n",
    "    else:\n",
    "        runs.append([])\n",
    "        runs[-1].append(peaks2[i])\n",
    "        \n",
    "# Remove runs containing a certain peak1\n",
    "runs2 = []\n",
    "for run in runs:\n",
    "    if set(peaks1).isdisjoint(run) and not run in runs2:\n",
    "        runs2.append(run)\n",
    "runs = runs2\n",
    "\n",
    "peaks2 = [int(mean(run)) for run in runs]\n",
    "peaks = peaks1 + peaks2\n",
    "\n",
    "peak_widths = [.5*len(run)*(k[1]-k[0]) for run in runs] #Some ill-defined measure of uncertainty/width. Currently not used\n",
    "\n",
    "k_peaks1 = k[peaks1]\n",
    "k_peaks2 = k[peaks2]\n",
    "k_peaks3 = [] # For user-added peaks\n",
    "\n",
    "k_peaks = k[peaks]\n",
    "\n",
    "# Plot location and values of lines\n",
    "fig, ax = plt.subplots(figsize=(26, 13),dpi=150)\n",
    "matplotlib.rcParams.update({'font.size': 18})\n",
    "matplotlib.rcParams.update({'font.family': 'serif'})\n",
    "\n",
    "h = .03\n",
    "ax.plot(k, a_nosmooth)\n",
    "\n",
    "def plotline(peaks):\n",
    "    for i in range(len(peaks)):\n",
    "        ax.vlines(k[peaks[i]], 0, a[peaks[i]]+h, linestyle='--' if peaks[0]==peaks2[0] else '-')\n",
    "        ax.text(k[peaks[i]]-.001, \n",
    "                a[peaks[i]]+h*1.15, str(k[peaks[i]]-int(k[0]))[1:5], \n",
    "                fontsize=16, rotation=90, va='bottom')\n",
    "        ax.text(k[peaks[i]]-.001, \n",
    "                -.01, 'a'+str(i) if peaks[0]==peaks1[0] else 'b'+str(i), \n",
    "                fontsize=16)\n",
    "\n",
    "plotline(peaks1)\n",
    "plotline(peaks2)\n",
    "\n",
    "ax.grid(True)\n",
    "ax.xaxis.set_major_locator(ticker.MultipleLocator(.01))\n",
    "plt.show()"
   ]
  }
 ],
 "metadata": {
  "kernelspec": {
   "display_name": "Python 3",
   "language": "python",
   "name": "python3"
  },
  "language_info": {
   "codemirror_mode": {
    "name": "ipython",
    "version": 3
   },
   "file_extension": ".py",
   "mimetype": "text/x-python",
   "name": "python",
   "nbconvert_exporter": "python",
   "pygments_lexer": "ipython3",
   "version": "3.7.6"
  }
 },
 "nbformat": 4,
 "nbformat_minor": 4
}
