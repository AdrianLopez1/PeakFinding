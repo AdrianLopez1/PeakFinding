{
 "cells": [
  {
   "cell_type": "markdown",
   "metadata": {},
   "source": [
    "# To compute differences between my and Nick's peak locations"
   ]
  },
  {
   "cell_type": "code",
   "execution_count": 20,
   "metadata": {},
   "outputs": [],
   "source": [
    "import numpy as np\n",
    "\n",
    "def compute_differences():\n",
    "    diff = []\n",
    "    for nick_peak in nick_peaks:\n",
    "        diff.append(min(abs(nick_peak-my_peaks)))\n",
    "    print(np.mean(diff))\n",
    "    print(np.std(diff))"
   ]
  },
  {
   "cell_type": "markdown",
   "metadata": {},
   "source": [
    "## Scan 2"
   ]
  },
  {
   "cell_type": "code",
   "execution_count": 21,
   "metadata": {},
   "outputs": [
    {
     "name": "stdout",
     "output_type": "stream",
     "text": [
      "8.518591428746052e-05\n",
      "9.9040095659562e-05\n"
     ]
    }
   ],
   "source": [
    "my_peaks = np.array([0.47140439234135556,0.47679561486438615,0.48621629678382305,0.49026552584109595,0.500079090201325,0.5039885036712803,0.5075600090385706,0.5167425397339684,0.5211050004545541,0.5372939766202762,0.5438219495081285,0.5499442576838192,0.5599017542263027,0.56391282488039,0.5705880919704214,0.5759399147536897,0.5845978321740404,0.5894816440450086,0.5954085392040724,0.5992681871030072,0.6029146506261895,0.6043922523349465,0.6142803745497076,0.6224989072397875,0.6276649668579921,0.6309172927758482,0.6366360455649556])\n",
    "nick_peaks = np.array([.47141,.4768,.48617,.49009,.50019,.50431,.50760,.5168,\n",
    "                            .5211])\n",
    "compute_differences()"
   ]
  },
  {
   "cell_type": "markdown",
   "metadata": {},
   "source": [
    "## Scan 3"
   ]
  },
  {
   "cell_type": "code",
   "execution_count": 22,
   "metadata": {},
   "outputs": [
    {
     "name": "stdout",
     "output_type": "stream",
     "text": [
      "0.00027558217816447267\n",
      "0.0001351625155365782\n"
     ]
    }
   ],
   "source": [
    "my_peaks = np.array([0.647732236313459,0.6546134768032061,0.6627541280431615,0.6667165131875663,0.6708772869751556,0.6773257513996214,0.6814916834191536,0.7085673011788458,0.7116347265764489,0.7170418507776049,0.725630632656248,0.7299519688531291,0.7353037112225138,0.7467941694885667,0.7532412329419458,0.6387919913941005,0.6591004942856671,0.7057343479900737])\n",
    "nick_peaks = np.array([.64748, .6542, .6594, .66273, .6663, .67126, .67736, .68114, .7062, .70844, .71125, .7168, .7258, .7301, .7350, .7464])\n",
    "compute_differences()"
   ]
  },
  {
   "cell_type": "markdown",
   "metadata": {},
   "source": [
    "## Scan 6"
   ]
  },
  {
   "cell_type": "code",
   "execution_count": 23,
   "metadata": {},
   "outputs": [
    {
     "name": "stdout",
     "output_type": "stream",
     "text": [
      "0.0002813629763726344\n",
      "0.000263983391284722\n"
     ]
    }
   ],
   "source": [
    "my_peaks = np.array([0.7541014538510353,0.7581880409779842,0.7740421219496056,0.781256210331776,0.7863105402866495,0.7917039881758683,0.7971644224053307,0.8037528603308601,0.8191532097443996,0.8241902305890108,0.8259848401503405,0.837020017694158,0.8453599306340038,0.8748155450011836,0.8848414076273912,0.8911132632056251,0.9004909307368507,0.9160057506596786,0.9204826252062048,0.9314558528094494,0.9385157502292714,0.7478029731864808,0.8149818386154948,0.8344065430064802,0.8951647460489767])\n",
    "nick_peaks = np.array([.75297, .75821, .7740,.7810,.7866,.79157,.7973,.80354,.81923,.82384,.8449,.8751,.8846,.8909,.8960,.9005,.91586,.9207,.9311,.93873])\n",
    "compute_differences()"
   ]
  },
  {
   "cell_type": "code",
   "execution_count": null,
   "metadata": {},
   "outputs": [],
   "source": []
  }
 ],
 "metadata": {
  "kernelspec": {
   "display_name": "Python 3",
   "language": "python",
   "name": "python3"
  },
  "language_info": {
   "codemirror_mode": {
    "name": "ipython",
    "version": 3
   },
   "file_extension": ".py",
   "mimetype": "text/x-python",
   "name": "python",
   "nbconvert_exporter": "python",
   "pygments_lexer": "ipython3",
   "version": "3.7.6"
  }
 },
 "nbformat": 4,
 "nbformat_minor": 4
}
